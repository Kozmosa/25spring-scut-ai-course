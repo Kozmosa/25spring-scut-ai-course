{
 "cells": [
  {
   "cell_type": "code",
   "execution_count": 1,
   "id": "a1550e2f-dcfe-47d0-8cb4-c424c5d1433e",
   "metadata": {},
   "outputs": [],
   "source": [
    "class Cat:\n",
    "    def __init__(self, color):\n",
    "        self.color = color\n",
    "\n",
    "    def jump(self, steps):\n",
    "        print(f\"这只{self.color}猫跳了 {steps} 步。\")"
   ]
  },
  {
   "cell_type": "code",
   "execution_count": 2,
   "id": "b392fbb8-33a7-4191-a2f9-3b60a192759d",
   "metadata": {},
   "outputs": [
    {
     "name": "stdout",
     "output_type": "stream",
     "text": [
      "这只黑色猫跳了 2 步。\n"
     ]
    }
   ],
   "source": [
    "black_cat = Cat(\"黑色\")\n",
    "\n",
    "black_cat.jump(2)"
   ]
  },
  {
   "cell_type": "code",
   "execution_count": null,
   "id": "ea35e9a5-2f57-47a8-9b05-615a485d6b14",
   "metadata": {},
   "outputs": [],
   "source": []
  }
 ],
 "metadata": {
  "kernelspec": {
   "display_name": "Python 3 (ipykernel)",
   "language": "python",
   "name": "python3"
  },
  "language_info": {
   "codemirror_mode": {
    "name": "ipython",
    "version": 3
   },
   "file_extension": ".py",
   "mimetype": "text/x-python",
   "name": "python",
   "nbconvert_exporter": "python",
   "pygments_lexer": "ipython3",
   "version": "3.12.2"
  }
 },
 "nbformat": 4,
 "nbformat_minor": 5
}
