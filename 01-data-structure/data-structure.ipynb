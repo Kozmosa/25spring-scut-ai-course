{
 "cells": [
  {
   "cell_type": "code",
   "execution_count": 1,
   "id": "724c019f-01a8-4e85-acf8-89aee19bf1d0",
   "metadata": {},
   "outputs": [],
   "source": [
    "friend1 = {\n",
    "    \"name\": \"Eric\",\n",
    "    \"phone\": \"18888888888\"\n",
    "}\n",
    "\n",
    "friend2 = {\n",
    "    \"name\": \"Alex\",\n",
    "    \"phone\": \"18888888889\"\n",
    "}\n",
    "\n",
    "friends = [friend1, friend2]"
   ]
  },
  {
   "cell_type": "code",
   "execution_count": 2,
   "id": "6d455cd6-2977-4b35-98c0-d3a3502f8983",
   "metadata": {},
   "outputs": [
    {
     "data": {
      "text/plain": [
       "[{'name': 'Eric', 'phone': '18888888888'},\n",
       " {'name': 'Alex', 'phone': '18888888889'}]"
      ]
     },
     "execution_count": 2,
     "metadata": {},
     "output_type": "execute_result"
    }
   ],
   "source": [
    "friends"
   ]
  },
  {
   "cell_type": "code",
   "execution_count": null,
   "id": "f2e283ec-d042-4c49-a086-524f5f2507a3",
   "metadata": {},
   "outputs": [],
   "source": []
  }
 ],
 "metadata": {
  "kernelspec": {
   "display_name": "Python 3 (ipykernel)",
   "language": "python",
   "name": "python3"
  },
  "language_info": {
   "codemirror_mode": {
    "name": "ipython",
    "version": 3
   },
   "file_extension": ".py",
   "mimetype": "text/x-python",
   "name": "python",
   "nbconvert_exporter": "python",
   "pygments_lexer": "ipython3",
   "version": "3.12.2"
  }
 },
 "nbformat": 4,
 "nbformat_minor": 5
}
